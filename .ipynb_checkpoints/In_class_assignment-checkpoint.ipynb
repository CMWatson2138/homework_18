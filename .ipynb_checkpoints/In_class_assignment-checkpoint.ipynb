{
 "cells": [
  {
   "cell_type": "markdown",
   "metadata": {},
   "source": [
    "### 1. Look up the Adam optimization functions in PyTorch https://pytorch.org/docs/stable/optim.html"
   ]
  },
  {
   "cell_type": "markdown",
   "metadata": {},
   "source": [
    "### How does it work?"
   ]
  },
  {
   "cell_type": "markdown",
   "metadata": {},
   "source": [
    "Adam works by calculating exponential moving averages of the gradient and the squared gradient."
   ]
  },
  {
   "cell_type": "markdown",
   "metadata": {},
   "source": [
    "### Try at least one other optimization function with the diabetes dataset shown in class. How does the model perform with the new optimizer? Did it perform better or worse than Adam? Why do you think that is?"
   ]
  },
  {
   "cell_type": "markdown",
   "metadata": {},
   "source": [
    "Our group tried the Adadelta, Adagrad, ASGD, SGD, RMSprop, and Rprop.  Only the Rprop performed marginally better than the Adam did.  We think that perhaps that is because Rprop is uses resilient backpropagation."
   ]
  },
  {
   "cell_type": "markdown",
   "metadata": {},
   "source": [
    "### 2. Write a function that lists and counts the number of divisors for an input value. \n",
    "### Example 1: Input: 5 \n",
    "### Output: “There are 2 divisors: 1 and 5” \n",
    "### Example 2: Input: 40 \n",
    "### Output: “There are 8 divisors: 1, 2, 4, 5, 8, 10, 20, and 40\""
   ]
  },
  {
   "cell_type": "code",
   "execution_count": 50,
   "metadata": {},
   "outputs": [],
   "source": [
    "def calc_divisors(x):\n",
    "    divisors = []\n",
    "    for i in range(1, x+1):\n",
    "        if x%i == 0:\n",
    "            divisors.append(str(i))   \n",
    "            \n",
    "    output = 'There are ' + str(len(divisors)) + ' divisors:'\n",
    "    if len(divisors) == 2:\n",
    "        output += divisors[0] + ' and ' + divisors[1]\n",
    "        return output\n",
    "        \n",
    "    for n in range (len(divisors)):\n",
    "        if n < len(divisors)-1:\n",
    "            output += divisors[n] + ', '\n",
    "        else:\n",
    "            output += 'and ' + divisors[n]\n",
    "    \n",
    "    return output\n",
    "        "
   ]
  },
  {
   "cell_type": "code",
   "execution_count": 51,
   "metadata": {},
   "outputs": [
    {
     "data": {
      "text/plain": [
       "'There are 2 divisors:1 and 5'"
      ]
     },
     "execution_count": 51,
     "metadata": {},
     "output_type": "execute_result"
    }
   ],
   "source": [
    "calc_divisors(5)"
   ]
  },
  {
   "cell_type": "code",
   "execution_count": 52,
   "metadata": {},
   "outputs": [
    {
     "data": {
      "text/plain": [
       "'There are 8 divisors:1, 2, 4, 5, 8, 10, 20, and 40'"
      ]
     },
     "execution_count": 52,
     "metadata": {},
     "output_type": "execute_result"
    }
   ],
   "source": [
    "calc_divisors(40)"
   ]
  }
 ],
 "metadata": {
  "kernelspec": {
   "display_name": "Python 3",
   "language": "python",
   "name": "python3"
  },
  "language_info": {
   "codemirror_mode": {
    "name": "ipython",
    "version": 3
   },
   "file_extension": ".py",
   "mimetype": "text/x-python",
   "name": "python",
   "nbconvert_exporter": "python",
   "pygments_lexer": "ipython3",
   "version": "3.8.5"
  }
 },
 "nbformat": 4,
 "nbformat_minor": 4
}
