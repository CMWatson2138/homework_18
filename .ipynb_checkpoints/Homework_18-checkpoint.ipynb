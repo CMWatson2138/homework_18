{
 "cells": [
  {
   "cell_type": "markdown",
   "metadata": {},
   "source": [
    "### 1. What is a neural network? What are the general steps required to build a neural network? "
   ]
  },
  {
   "cell_type": "markdown",
   "metadata": {},
   "source": [
    "A neural network is machine learning made up of at least three layers: the input layer, a hidden layer, and the output layer.  A neural network containing more than one hidden layer is said to be performing \"deep learning\".  The neural network takes the values from the input layer, and applies specified weights to them, and then calculates the results of their interactions with each other.  This calculation of weights and interactions happens at each layer until you reach the output layer, which is actually the prediction.\n",
    "The general steps to build a neural network are to:\n",
    "1. Specify the model setup, such as Sequential.\n",
    "2. Build each layer of the model, beginning with the input layer.  This will specify dense/sparse, number of nodes, activation type (typically 'relu'), and input shape.\n",
    "3. Hidden layers will each contain all of the specifications of the first layer except for input shape as their input will be the layer preceding.\n",
    "4. Build the output layer with dense/sparse, number of final answers you are looking for (one if regression, two if binary classification, variable depending on the data if classification other than binary)\n",
    "5. Compile the model.  Here you specify optimizer, loss function and metric for evaluating performance.\n",
    "6. Fit the model using at least predictions and target."
   ]
  },
  {
   "cell_type": "markdown",
   "metadata": {},
   "source": [
    "### 2. Generally, how do you check the performance of a neural network? Why? "
   ]
  },
  {
   "cell_type": "markdown",
   "metadata": {},
   "source": [
    "You can check the performance of your model using validation scores. You can run epochs using optimization methods to determine the point at which you minimize your loss function.  The performance of your model at that point is maximized."
   ]
  },
  {
   "cell_type": "markdown",
   "metadata": {},
   "source": [
    "### 3. Create a neural network using keras to predict the outcome of either of these datasets: \n",
    "### Cardiac Arrhythmia: https://archive.ics.uci.edu/ml/datasets/Arrhythmia \n",
    "### Abalone age: https://archive.ics.uci.edu/ml/datasets/Abalone"
   ]
  },
  {
   "cell_type": "markdown",
   "metadata": {},
   "source": [
    "import data"
   ]
  },
  {
   "cell_type": "code",
   "execution_count": 2,
   "metadata": {},
   "outputs": [
    {
     "data": {
      "text/plain": [
       "(4177, 9)"
      ]
     },
     "execution_count": 2,
     "metadata": {},
     "output_type": "execute_result"
    }
   ],
   "source": [
    "import numpy as np\n",
    "import pandas as pd\n",
    "from sklearn import tree\n",
    "from sklearn.metrics import confusion_matrix, classification_report, plot_confusion_matrix\n",
    "import pydotplus\n",
    "from IPython.display import Image\n",
    "\n",
    "ab_df=pd.read_csv('abalone.data',delimiter=',',header=None)\n",
    "ab_df.shape"
   ]
  },
  {
   "cell_type": "markdown",
   "metadata": {},
   "source": [
    "rename columns"
   ]
  },
  {
   "cell_type": "code",
   "execution_count": 3,
   "metadata": {},
   "outputs": [],
   "source": [
    "ab_df.columns=['sex', 'length', 'diameter', 'height', 'whole_weight', 'shucked_weight', 'viscera_weight', 'shell_weight', 'rings']"
   ]
  },
  {
   "cell_type": "markdown",
   "metadata": {},
   "source": [
    "remove unnecessary columns"
   ]
  },
  {
   "cell_type": "code",
   "execution_count": 4,
   "metadata": {},
   "outputs": [],
   "source": [
    "df=ab_df[['sex', 'length', 'diameter', 'height', 'whole_weight', 'rings']]"
   ]
  },
  {
   "cell_type": "markdown",
   "metadata": {},
   "source": [
    "There are no missing values, so moving on to reviewing/removing outliers"
   ]
  },
  {
   "cell_type": "code",
   "execution_count": 5,
   "metadata": {},
   "outputs": [
    {
     "name": "stdout",
     "output_type": "stream",
     "text": [
      "length          0.1650\n",
      "diameter        0.1300\n",
      "height          0.0500\n",
      "whole_weight    0.7115\n",
      "rings           3.0000\n",
      "dtype: float64\n"
     ]
    },
    {
     "data": {
      "text/plain": [
       "(4081, 6)"
      ]
     },
     "execution_count": 5,
     "metadata": {},
     "output_type": "execute_result"
    }
   ],
   "source": [
    "outlier_rem_df=df.copy()\n",
    "# IQR\n",
    "Q1 = outlier_rem_df.quantile(0.25)\n",
    "Q3 = outlier_rem_df.quantile(0.75)\n",
    "IQR = Q3 - Q1\n",
    "print(IQR)\n",
    "mod_df_out = outlier_rem_df[~((outlier_rem_df < (Q1 - 2.5 * IQR)) |(outlier_rem_df > (Q3 + 2.5 * IQR))).any(axis=1)]\n",
    "mod_df_out.shape"
   ]
  },
  {
   "cell_type": "code",
   "execution_count": 6,
   "metadata": {},
   "outputs": [
    {
     "data": {
      "text/plain": [
       "array([15,  7,  9, 10,  8, 16, 14, 11, 12, 18, 13,  5,  4,  6, 17,  1,  3,\n",
       "        2], dtype=int64)"
      ]
     },
     "execution_count": 6,
     "metadata": {},
     "output_type": "execute_result"
    }
   ],
   "source": [
    "mod_df_out['rings'].unique()"
   ]
  },
  {
   "cell_type": "markdown",
   "metadata": {},
   "source": [
    "One hot encoding sex column"
   ]
  },
  {
   "cell_type": "code",
   "execution_count": 7,
   "metadata": {},
   "outputs": [
    {
     "data": {
      "text/html": [
       "<div>\n",
       "<style scoped>\n",
       "    .dataframe tbody tr th:only-of-type {\n",
       "        vertical-align: middle;\n",
       "    }\n",
       "\n",
       "    .dataframe tbody tr th {\n",
       "        vertical-align: top;\n",
       "    }\n",
       "\n",
       "    .dataframe thead th {\n",
       "        text-align: right;\n",
       "    }\n",
       "</style>\n",
       "<table border=\"1\" class=\"dataframe\">\n",
       "  <thead>\n",
       "    <tr style=\"text-align: right;\">\n",
       "      <th></th>\n",
       "      <th>length</th>\n",
       "      <th>diameter</th>\n",
       "      <th>height</th>\n",
       "      <th>whole_weight</th>\n",
       "      <th>rings</th>\n",
       "      <th>sex_F</th>\n",
       "      <th>sex_I</th>\n",
       "      <th>sex_M</th>\n",
       "    </tr>\n",
       "  </thead>\n",
       "  <tbody>\n",
       "    <tr>\n",
       "      <th>0</th>\n",
       "      <td>0.455</td>\n",
       "      <td>0.365</td>\n",
       "      <td>0.095</td>\n",
       "      <td>0.5140</td>\n",
       "      <td>15</td>\n",
       "      <td>0</td>\n",
       "      <td>0</td>\n",
       "      <td>1</td>\n",
       "    </tr>\n",
       "    <tr>\n",
       "      <th>1</th>\n",
       "      <td>0.350</td>\n",
       "      <td>0.265</td>\n",
       "      <td>0.090</td>\n",
       "      <td>0.2255</td>\n",
       "      <td>7</td>\n",
       "      <td>0</td>\n",
       "      <td>0</td>\n",
       "      <td>1</td>\n",
       "    </tr>\n",
       "    <tr>\n",
       "      <th>2</th>\n",
       "      <td>0.530</td>\n",
       "      <td>0.420</td>\n",
       "      <td>0.135</td>\n",
       "      <td>0.6770</td>\n",
       "      <td>9</td>\n",
       "      <td>1</td>\n",
       "      <td>0</td>\n",
       "      <td>0</td>\n",
       "    </tr>\n",
       "    <tr>\n",
       "      <th>3</th>\n",
       "      <td>0.440</td>\n",
       "      <td>0.365</td>\n",
       "      <td>0.125</td>\n",
       "      <td>0.5160</td>\n",
       "      <td>10</td>\n",
       "      <td>0</td>\n",
       "      <td>0</td>\n",
       "      <td>1</td>\n",
       "    </tr>\n",
       "    <tr>\n",
       "      <th>4</th>\n",
       "      <td>0.330</td>\n",
       "      <td>0.255</td>\n",
       "      <td>0.080</td>\n",
       "      <td>0.2050</td>\n",
       "      <td>7</td>\n",
       "      <td>0</td>\n",
       "      <td>1</td>\n",
       "      <td>0</td>\n",
       "    </tr>\n",
       "    <tr>\n",
       "      <th>...</th>\n",
       "      <td>...</td>\n",
       "      <td>...</td>\n",
       "      <td>...</td>\n",
       "      <td>...</td>\n",
       "      <td>...</td>\n",
       "      <td>...</td>\n",
       "      <td>...</td>\n",
       "      <td>...</td>\n",
       "    </tr>\n",
       "    <tr>\n",
       "      <th>4172</th>\n",
       "      <td>0.565</td>\n",
       "      <td>0.450</td>\n",
       "      <td>0.165</td>\n",
       "      <td>0.8870</td>\n",
       "      <td>11</td>\n",
       "      <td>1</td>\n",
       "      <td>0</td>\n",
       "      <td>0</td>\n",
       "    </tr>\n",
       "    <tr>\n",
       "      <th>4173</th>\n",
       "      <td>0.590</td>\n",
       "      <td>0.440</td>\n",
       "      <td>0.135</td>\n",
       "      <td>0.9660</td>\n",
       "      <td>10</td>\n",
       "      <td>0</td>\n",
       "      <td>0</td>\n",
       "      <td>1</td>\n",
       "    </tr>\n",
       "    <tr>\n",
       "      <th>4174</th>\n",
       "      <td>0.600</td>\n",
       "      <td>0.475</td>\n",
       "      <td>0.205</td>\n",
       "      <td>1.1760</td>\n",
       "      <td>9</td>\n",
       "      <td>0</td>\n",
       "      <td>0</td>\n",
       "      <td>1</td>\n",
       "    </tr>\n",
       "    <tr>\n",
       "      <th>4175</th>\n",
       "      <td>0.625</td>\n",
       "      <td>0.485</td>\n",
       "      <td>0.150</td>\n",
       "      <td>1.0945</td>\n",
       "      <td>10</td>\n",
       "      <td>1</td>\n",
       "      <td>0</td>\n",
       "      <td>0</td>\n",
       "    </tr>\n",
       "    <tr>\n",
       "      <th>4176</th>\n",
       "      <td>0.710</td>\n",
       "      <td>0.555</td>\n",
       "      <td>0.195</td>\n",
       "      <td>1.9485</td>\n",
       "      <td>12</td>\n",
       "      <td>0</td>\n",
       "      <td>0</td>\n",
       "      <td>1</td>\n",
       "    </tr>\n",
       "  </tbody>\n",
       "</table>\n",
       "<p>4081 rows × 8 columns</p>\n",
       "</div>"
      ],
      "text/plain": [
       "      length  diameter  height  whole_weight  rings  sex_F  sex_I  sex_M\n",
       "0      0.455     0.365   0.095        0.5140     15      0      0      1\n",
       "1      0.350     0.265   0.090        0.2255      7      0      0      1\n",
       "2      0.530     0.420   0.135        0.6770      9      1      0      0\n",
       "3      0.440     0.365   0.125        0.5160     10      0      0      1\n",
       "4      0.330     0.255   0.080        0.2050      7      0      1      0\n",
       "...      ...       ...     ...           ...    ...    ...    ...    ...\n",
       "4172   0.565     0.450   0.165        0.8870     11      1      0      0\n",
       "4173   0.590     0.440   0.135        0.9660     10      0      0      1\n",
       "4174   0.600     0.475   0.205        1.1760      9      0      0      1\n",
       "4175   0.625     0.485   0.150        1.0945     10      1      0      0\n",
       "4176   0.710     0.555   0.195        1.9485     12      0      0      1\n",
       "\n",
       "[4081 rows x 8 columns]"
      ]
     },
     "execution_count": 7,
     "metadata": {},
     "output_type": "execute_result"
    }
   ],
   "source": [
    "aba_df=pd.get_dummies(mod_df_out)\n",
    "aba_df"
   ]
  },
  {
   "cell_type": "markdown",
   "metadata": {},
   "source": [
    "Will standardize values in model setup"
   ]
  },
  {
   "cell_type": "code",
   "execution_count": 8,
   "metadata": {},
   "outputs": [
    {
     "name": "stdout",
     "output_type": "stream",
     "text": [
      "Train: 4.441, Test: 4.610\n"
     ]
    },
    {
     "data": {
      "image/png": "[encoded data removed]",
      "text/plain": [
       "<Figure size 432x288 with 1 Axes>"
      ]
     },
     "metadata": {
      "needs_background": "light"
     },
     "output_type": "display_data"
    }
   ],
   "source": [
    "from sklearn.preprocessing import StandardScaler\n",
    "from keras.layers import Dense\n",
    "from keras.models import Sequential\n",
    "from keras.optimizers import SGD\n",
    "from sklearn.model_selection import train_test_split\n",
    "from matplotlib import pyplot\n",
    "\n",
    "X= aba_df.drop('rings', axis=1)\n",
    "y= aba_df['rings']\n",
    "\n",
    "X_train, X_test, y_train, y_test = train_test_split(X, y, test_size = 0.2, random_state=42)\n",
    "\n",
    "scaler = StandardScaler()\n",
    "scaler.fit_transform(X_train, y_train)\n",
    "\n",
    "# define model\n",
    "n_cols = X_train.shape[1]\n",
    "input_shape = (n_cols,)\n",
    "\n",
    "model = Sequential()\n",
    "model.add(Dense(50, activation='relu',input_shape=input_shape))\n",
    "model.add(Dense(50, activation='relu'))\n",
    "model.add(Dense(1, activation='linear'))\n",
    "# compile model\n",
    "model.compile(loss='mean_squared_error', optimizer=SGD(learning_rate=0.01, momentum=0.9))\n",
    "# fit model\n",
    "history = model.fit(X_train, y_train, validation_data=(X_test, y_test), epochs=100, verbose=0)\n",
    "# evaluate the model\n",
    "train_mse = model.evaluate(X_train, y_train, verbose=0)\n",
    "test_mse = model.evaluate(X_test, y_test, verbose=0)\n",
    "print('Train: %.3f, Test: %.3f' % (train_mse, test_mse))\n",
    "# plot loss during training\n",
    "pyplot.title('Loss / Mean Squared Error')\n",
    "pyplot.plot(history.history['loss'], label='train')\n",
    "pyplot.plot(history.history['val_loss'], label='test')\n",
    "pyplot.legend()\n",
    "pyplot.show()"
   ]
  },
  {
   "cell_type": "markdown",
   "metadata": {},
   "source": [
    "### 5. Write another algorithm to predict the same result using either KNN or logistical regression."
   ]
  },
  {
   "cell_type": "code",
   "execution_count": 9,
   "metadata": {},
   "outputs": [
    {
     "name": "stdout",
     "output_type": "stream",
     "text": [
      "Accuracy score is:  0.21297429620563035\n",
      "Mean squared error is:  6.965728274173807\n"
     ]
    }
   ],
   "source": [
    "from sklearn.neighbors import KNeighborsClassifier\n",
    "from sklearn.metrics import mean_squared_error as mse\n",
    "\n",
    "X= aba_df.drop('rings', axis=1)\n",
    "y= aba_df['rings']\n",
    "\n",
    "X_train, X_test, y_train, y_test = train_test_split(X, y, test_size = 0.2, random_state=42)\n",
    "\n",
    "#Standardization\n",
    "from sklearn.preprocessing import StandardScaler\n",
    "sc = StandardScaler()\n",
    "X_train = sc.fit_transform(X_train)\n",
    "X_test = sc.fit_transform(X_test)\n",
    "\n",
    "knn = KNeighborsClassifier(n_neighbors=5)\n",
    "\n",
    "knn.fit(X_train,y_train)\n",
    "y_predicted = knn.predict(X_test)\n",
    "print('Accuracy score is: ', knn.score(X_test, y_test))\n",
    "print('Mean squared error is: ', mse(y_test, y_predicted))"
   ]
  },
  {
   "cell_type": "markdown",
   "metadata": {},
   "source": [
    "### 5. Create a neural network using pytorch to predict the same result as question 3. \n"
   ]
  },
  {
   "cell_type": "code",
   "execution_count": 22,
   "metadata": {},
   "outputs": [],
   "source": [
    "from sklearn.model_selection import train_test_split\n",
    "from sklearn.preprocessing import StandardScaler\n",
    "import torch\n",
    "import torch.nn as nn\n",
    "import torch.nn.functional as F \n",
    "\n",
    "X= aba_df.drop('rings', axis=1)\n",
    "y= aba_df['rings']\n",
    "\n",
    "X_train, X_test, y_train, y_test = train_test_split(X, y, test_size = 0.2, random_state=42)\n",
    "\n",
    "# #Standardize\n",
    "sc= StandardScaler()\n",
    "X_train=sc.fit_transform(X_train)\n",
    "X_test=sc.fit_transform(X_test)"
   ]
  },
  {
   "cell_type": "code",
   "execution_count": 30,
   "metadata": {},
   "outputs": [
    {
     "name": "stdout",
     "output_type": "stream",
     "text": [
      "tensor([[ 0.8417,  0.8321, -0.4758,  ..., -0.6766, -0.6998,  1.3414],\n",
      "        [ 1.1299,  1.1818,  1.9778,  ..., -0.6766,  1.4290, -0.7455],\n",
      "        [ 0.7182,  0.5323,  0.5573,  ..., -0.6766, -0.6998,  1.3414],\n",
      "        ...,\n",
      "        [-1.2167, -1.2664, -1.2506,  ..., -0.6766,  1.4290, -0.7455],\n",
      "        [ 1.5827,  1.1318,  1.0739,  ..., -0.6766, -0.6998,  1.3414],\n",
      "        [-0.5580, -0.3171, -0.3466,  ..., -0.6766, -0.6998,  1.3414]])\n"
     ]
    }
   ],
   "source": [
    "X_train = torch.FloatTensor(X_train)\n",
    "X_test = torch.FloatTensor(X_test)\n",
    "\n",
    "y_train = torch.LongTensor(y_train)\n",
    "y_test = torch.LongTensor(y_test)\n",
    "\n",
    "print(X_train)"
   ]
  },
  {
   "cell_type": "code",
   "execution_count": 31,
   "metadata": {},
   "outputs": [],
   "source": [
    "class ANN_Model(nn.Module):\n",
    "    def __init__(self, input_features=7, hidden1=50, hidden2=50, out_features =1):\n",
    "        super().__init__()\n",
    "        self.layer_1_connection = nn.Linear(input_features, hidden1)\n",
    "        self.layer_2_connection = nn.Linear(hidden1, hidden2)\n",
    "        self.out = nn.Linear(hidden2, out_features)\n",
    "    \n",
    "    def forward(self, x):\n",
    "        x = F.relu(self.layer_1_connection(x))\n",
    "        x = F.relu(self.layer_2_connection(x))\n",
    "        x = self.out(x)\n",
    "        return x"
   ]
  },
  {
   "cell_type": "code",
   "execution_count": 32,
   "metadata": {},
   "outputs": [],
   "source": [
    "torch.manual_seed(42)\n",
    "\n",
    "model = ANN_Model()"
   ]
  },
  {
   "cell_type": "code",
   "execution_count": 35,
   "metadata": {},
   "outputs": [],
   "source": [
    "loss_function = nn.MSELoss()\n",
    "\n",
    "optimizer = torch.optim.Adam(model.parameters(), lr = 0.01)\n",
    "\n",
    "y_test = y_test.to(torch.float32)"
   ]
  },
  {
   "cell_type": "code",
   "execution_count": 45,
   "metadata": {},
   "outputs": [
    {
     "name": "stdout",
     "output_type": "stream",
     "text": [
      "Epoch number: 1 with loss: 7.7665696144104\n",
      "Epoch number: 21 with loss: 7.76612663269043\n",
      "Epoch number: 41 with loss: 7.766013145446777\n",
      "Epoch number: 61 with loss: 7.766005516052246\n",
      "Epoch number: 81 with loss: 7.7660040855407715\n",
      "Epoch number: 101 with loss: 7.7660040855407715\n",
      "Epoch number: 121 with loss: 7.766005516052246\n",
      "Epoch number: 141 with loss: 7.769236087799072\n",
      "Epoch number: 161 with loss: 7.768919944763184\n",
      "Epoch number: 181 with loss: 7.767259120941162\n",
      "Epoch number: 201 with loss: 7.766138553619385\n",
      "Epoch number: 221 with loss: 7.766025066375732\n",
      "Epoch number: 241 with loss: 7.766005039215088\n",
      "Epoch number: 261 with loss: 7.766005039215088\n",
      "Epoch number: 281 with loss: 7.7660040855407715\n",
      "Epoch number: 301 with loss: 7.7661542892456055\n",
      "Epoch number: 321 with loss: 7.766026020050049\n",
      "Epoch number: 341 with loss: 7.766158103942871\n",
      "Epoch number: 361 with loss: 7.7686686515808105\n",
      "Epoch number: 381 with loss: 7.7667236328125\n",
      "Epoch number: 401 with loss: 7.766978740692139\n",
      "Epoch number: 421 with loss: 7.766167163848877\n",
      "Epoch number: 441 with loss: 7.766025066375732\n",
      "Epoch number: 461 with loss: 7.7660040855407715\n",
      "Epoch number: 481 with loss: 7.7660040855407715\n",
      "Epoch number: 501 with loss: 7.766003608703613\n",
      "Epoch number: 521 with loss: 7.766003608703613\n",
      "Epoch number: 541 with loss: 7.7660040855407715\n",
      "Epoch number: 561 with loss: 7.766003608703613\n",
      "Epoch number: 581 with loss: 7.766015529632568\n",
      "Epoch number: 601 with loss: 7.796019554138184\n",
      "Epoch number: 621 with loss: 7.771376132965088\n",
      "Epoch number: 641 with loss: 7.766611576080322\n",
      "Epoch number: 661 with loss: 7.766090393066406\n",
      "Epoch number: 681 with loss: 7.766012668609619\n",
      "Epoch number: 701 with loss: 7.766005039215088\n",
      "Epoch number: 721 with loss: 7.7660040855407715\n",
      "Epoch number: 741 with loss: 7.7660040855407715\n",
      "Epoch number: 761 with loss: 7.766003608703613\n",
      "Epoch number: 781 with loss: 7.766003608703613\n",
      "Epoch number: 801 with loss: 7.767289161682129\n",
      "Epoch number: 821 with loss: 7.7660651206970215\n",
      "Epoch number: 841 with loss: 7.766053199768066\n",
      "Epoch number: 861 with loss: 7.766024589538574\n",
      "Epoch number: 881 with loss: 7.767446041107178\n",
      "Epoch number: 901 with loss: 7.773784637451172\n",
      "Epoch number: 921 with loss: 7.76675271987915\n",
      "Epoch number: 941 with loss: 7.766023635864258\n",
      "Epoch number: 961 with loss: 7.766007900238037\n",
      "Epoch number: 981 with loss: 7.7660040855407715\n",
      "Epoch number: 1001 with loss: 7.766005039215088\n",
      "Epoch number: 1021 with loss: 7.766003608703613\n",
      "Epoch number: 1041 with loss: 7.766005516052246\n",
      "Epoch number: 1061 with loss: 7.774715423583984\n",
      "Epoch number: 1081 with loss: 7.772241115570068\n",
      "Epoch number: 1101 with loss: 7.766367435455322\n",
      "Epoch number: 1121 with loss: 7.7661356925964355\n",
      "Epoch number: 1141 with loss: 7.766014099121094\n",
      "Epoch number: 1161 with loss: 7.7660064697265625\n",
      "Epoch number: 1181 with loss: 7.7660040855407715\n",
      "Epoch number: 1201 with loss: 7.766003608703613\n",
      "Epoch number: 1221 with loss: 7.766003608703613\n",
      "Epoch number: 1241 with loss: 7.766003608703613\n",
      "Epoch number: 1261 with loss: 7.766016006469727\n",
      "Epoch number: 1281 with loss: 7.769372940063477\n",
      "Epoch number: 1301 with loss: 7.769168376922607\n",
      "Epoch number: 1321 with loss: 7.766122341156006\n",
      "Epoch number: 1341 with loss: 7.7661004066467285\n",
      "Epoch number: 1361 with loss: 7.766012668609619\n",
      "Epoch number: 1381 with loss: 7.767097473144531\n",
      "Epoch number: 1401 with loss: 7.772815227508545\n",
      "Epoch number: 1421 with loss: 7.766258239746094\n",
      "Epoch number: 1441 with loss: 7.7660322189331055\n",
      "Epoch number: 1461 with loss: 7.766005516052246\n",
      "Epoch number: 1481 with loss: 7.766007423400879\n",
      "Epoch number: 1501 with loss: 7.766005039215088\n",
      "Epoch number: 1521 with loss: 7.766040802001953\n",
      "Epoch number: 1541 with loss: 7.796660900115967\n",
      "Epoch number: 1561 with loss: 7.766411781311035\n",
      "Epoch number: 1581 with loss: 7.76603889465332\n",
      "Epoch number: 1601 with loss: 7.766040802001953\n",
      "Epoch number: 1621 with loss: 7.7660040855407715\n",
      "Epoch number: 1641 with loss: 7.766003608703613\n",
      "Epoch number: 1661 with loss: 7.766003608703613\n",
      "Epoch number: 1681 with loss: 7.766003608703613\n",
      "Epoch number: 1701 with loss: 7.7660064697265625\n",
      "Epoch number: 1721 with loss: 7.770839214324951\n",
      "Epoch number: 1741 with loss: 7.777014255523682\n",
      "Epoch number: 1761 with loss: 7.7681803703308105\n",
      "Epoch number: 1781 with loss: 7.766083240509033\n",
      "Epoch number: 1801 with loss: 7.766007900238037\n",
      "Epoch number: 1821 with loss: 7.766007423400879\n",
      "Epoch number: 1841 with loss: 7.7660040855407715\n",
      "Epoch number: 1861 with loss: 7.766003608703613\n",
      "Epoch number: 1881 with loss: 7.766003608703613\n",
      "Epoch number: 1901 with loss: 7.766003608703613\n",
      "Epoch number: 1921 with loss: 7.766002655029297\n",
      "Epoch number: 1941 with loss: 7.766002655029297\n",
      "Epoch number: 1961 with loss: 7.7660040855407715\n",
      "Epoch number: 1981 with loss: 7.839751243591309\n"
     ]
    }
   ],
   "source": [
    "final_loss = []\n",
    "n_epochs = 2000\n",
    "for epoch in range(n_epochs):\n",
    "    y_pred = model.forward(X_train)\n",
    "    loss = loss_function(y_pred.float(), y_train.float())\n",
    "    final_loss.append(loss)\n",
    "    \n",
    "    if epoch % 20 == 1:\n",
    "        print(f'Epoch number: {epoch} with loss: {loss.item()}')\n",
    "    \n",
    "    optimizer.zero_grad() #zero the gradient before running backwards propagation\n",
    "    loss.backward() #for backward propagation \n",
    "    optimizer.step() #performs one optimization step each epoch\n",
    "    "
   ]
  },
  {
   "cell_type": "markdown",
   "metadata": {},
   "source": [
    "### 6. Compare the performance of the neural networks to the other model you created. Which performed better? Why do you think that is?"
   ]
  },
  {
   "cell_type": "markdown",
   "metadata": {},
   "source": [
    "The neural networks performed better.  I believe this is because of the built in methods for optimization of feature weights."
   ]
  }
 ],
 "metadata": {
  "kernelspec": {
   "display_name": "Python 3",
   "language": "python",
   "name": "python3"
  },
  "language_info": {
   "codemirror_mode": {
    "name": "ipython",
    "version": 3
   },
   "file_extension": ".py",
   "mimetype": "text/x-python",
   "name": "python",
   "nbconvert_exporter": "python",
   "pygments_lexer": "ipython3",
   "version": "3.8.5"
  }
 },
 "nbformat": 4,
 "nbformat_minor": 4
}
